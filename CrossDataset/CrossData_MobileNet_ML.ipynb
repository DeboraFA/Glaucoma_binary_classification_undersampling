{
 "cells": [
  {
   "cell_type": "code",
   "execution_count": null,
   "id": "e6c434b0",
   "metadata": {
    "executionInfo": {
     "elapsed": 3567,
     "status": "ok",
     "timestamp": 1656348141169,
     "user": {
      "displayName": "Débora Ferreira",
      "userId": "05060274424742616333"
     },
     "user_tz": 180
    },
    "id": "e6c434b0"
   },
   "outputs": [],
   "source": [
    "import os\n",
    "import cv2\n",
    "import glob\n",
    "import random\n",
    "import numpy as np\n",
    "\n",
    "from tensorflow.keras import optimizers\n",
    "from tensorflow.keras.applications.resnet50 import ResNet50, preprocess_input\n",
    "from tensorflow.keras.applications.inception_resnet_v2 import InceptionResNetV2, preprocess_input\n",
    "from tensorflow.keras.applications.inception_v3 import InceptionV3, preprocess_input\n",
    "from tensorflow.keras.applications.mobilenet import MobileNet, preprocess_input\n",
    "from tensorflow.keras.applications.vgg16 import VGG16, preprocess_input\n",
    "from tensorflow.keras.applications.vgg19 import VGG19, preprocess_input\n",
    "from tensorflow.keras.applications.xception import Xception, preprocess_input\n",
    "from tensorflow.keras.preprocessing.image import ImageDataGenerator, load_img, img_to_array, array_to_img\n",
    "from tensorflow.keras.models import load_model, Model, model_from_json, Sequential\n",
    "from tensorflow.keras.preprocessing import image\n",
    "from tensorflow.keras.layers import Dense, Conv2D, MaxPooling2D, InputLayer, Dropout, Flatten, GlobalAveragePooling2D\n",
    "from tensorflow.keras.layers import Dropout, Flatten, GlobalAveragePooling2D\n",
    "\n",
    "from sklearn.svm import SVC\n",
    "from sklearn.neural_network import MLPClassifier\n",
    "from sklearn.ensemble import VotingClassifier\n",
    "from xgboost import XGBClassifier\n",
    "\n",
    "from sklearn import preprocessing\n",
    "from sklearn.preprocessing import StandardScaler, LabelEncoder\n",
    "\n",
    "from crossdata_metrics import metrics, data_balanced, train_crossdataset\n",
    "\n"
   ]
  },
  {
   "cell_type": "markdown",
   "id": "f733e538",
   "metadata": {
    "id": "f733e538"
   },
   "source": [
    "# Model"
   ]
  },
  {
   "cell_type": "code",
   "execution_count": null,
   "id": "10c5617a",
   "metadata": {
    "executionInfo": {
     "elapsed": 3835,
     "status": "ok",
     "timestamp": 1656348145000,
     "user": {
      "displayName": "Débora Ferreira",
      "userId": "05060274424742616333"
     },
     "user_tz": 180
    },
    "id": "10c5617a"
   },
   "outputs": [],
   "source": [
    "mobile = MobileNet(include_top=False, weights='imagenet', input_shape=(224,224,3))\n",
    "for layer in mobile.layers:\n",
    "    layer.trainable = False\n",
    "output = mobile.layers[-1].output\n",
    "output = Flatten()(output)\n",
    "mobile_model = Model(mobile.input, output)"
   ]
  },
  {
   "cell_type": "markdown",
   "id": "7e09b0c5",
   "metadata": {},
   "source": [
    "# Load dataset"
   ]
  },
  {
   "cell_type": "code",
   "execution_count": null,
   "id": "552372e5",
   "metadata": {
    "executionInfo": {
     "elapsed": 15,
     "status": "ok",
     "timestamp": 1656348145001,
     "user": {
      "displayName": "Débora Ferreira",
      "userId": "05060274424742616333"
     },
     "user_tz": 180
    },
    "id": "552372e5"
   },
   "outputs": [],
   "source": [
    "def load_path(path):\n",
    "\n",
    "    labels_ = os.listdir(path)\n",
    "\n",
    "    features = []\n",
    "    labels   = []\n",
    "\n",
    "    for i, label in enumerate(labels_):\n",
    "        cur_path = path + \"/\" + label \n",
    "\n",
    "        for image_path in glob.glob(cur_path + \"/*\"):\n",
    "\n",
    "            img = image.load_img(image_path, target_size=(224, 224))\n",
    "            x = image.img_to_array(img)\n",
    "            x = np.expand_dims(x, axis=0)\n",
    "            x = preprocess_input(x)\n",
    "            feature = mobile_model.predict(x)\n",
    "            flat = feature.flatten()\n",
    "            \n",
    "            features.append(flat)\n",
    "            labels.append(label)\n",
    "            \n",
    "        print (\"[INFO] completed label - \" + label)\n",
    "\n",
    "    return features, labels\n",
    "\n"
   ]
  },
  {
   "cell_type": "code",
   "execution_count": null,
   "id": "d711a978",
   "metadata": {
    "colab": {
     "base_uri": "https://localhost:8080/"
    },
    "executionInfo": {
     "elapsed": 365676,
     "status": "ok",
     "timestamp": 1656348510664,
     "user": {
      "displayName": "Débora Ferreira",
      "userId": "05060274424742616333"
     },
     "user_tz": 180
    },
    "id": "d711a978",
    "outputId": "26b50f6d-8fd4-48cf-a82f-987bf4daa424"
   },
   "outputs": [],
   "source": [
    "### ACRIMA\n",
    "ACRIMA_data, ACRIMA_labels = load_path(\"D:/Glaucoma/Banco_de_dados/ACRIMA/Images\")\n",
    "\n",
    "## REFUGE\n",
    "REFUGE_data_train, REFUGE_labels_train = load_path(\"D:/Glaucoma/Banco_de_dados/REFUGE/cortes2\")\n",
    "REFUGE_data_test, REFUGE_labels_test = load_path(\"D:/Glaucoma/Banco_de_dados/REFUGE/REFUGE-Test400/Cortes_test\")\n",
    "\n",
    "#### RIM-ONE \n",
    "RO_data_train, RO_labels_train = load_path(\"D:/Glaucoma/Banco_de_dados/RIM-ONE_DL_images/partitioned_randomly/training_set\")\n",
    "RO_data_test, RO_labels_test = load_path(\"D:/Glaucoma/Banco_de_dados/RIM-ONE_DL_images/partitioned_randomly/test_set\")\n"
   ]
  },
  {
   "cell_type": "code",
   "execution_count": null,
   "id": "eb8c08ab",
   "metadata": {
    "colab": {
     "base_uri": "https://localhost:8080/"
    },
    "executionInfo": {
     "elapsed": 1216,
     "status": "ok",
     "timestamp": 1656348511861,
     "user": {
      "displayName": "Débora Ferreira",
      "userId": "05060274424742616333"
     },
     "user_tz": 180
    },
    "id": "eb8c08ab",
    "outputId": "fba5b1be-b0ef-4069-bf29-9e65160e6f3a"
   },
   "outputs": [],
   "source": [
    "%%time\n",
    "# Refuge + Acrima + Rim-One DL\n",
    "data = np.concatenate([ACRIMA_data, REFUGE_data_train, REFUGE_data_test, RO_data_train,RO_data_test], axis = 0)\n",
    "labels_ = np.concatenate([ACRIMA_labels, REFUGE_labels_train, REFUGE_labels_test, RO_labels_train, RO_labels_test], axis = 0)\n",
    "\n",
    "# Refuge + Acrima\n",
    "data_re_ac = np.concatenate([ACRIMA_data, REFUGE_data_train, REFUGE_data_test], axis = 0)\n",
    "labels_re_ac_ = np.concatenate([ACRIMA_labels, REFUGE_labels_train, REFUGE_labels_test], axis = 0)\n",
    "\n",
    "# Rim-One + Acrima\n",
    "data_ro_ac = np.concatenate([ACRIMA_data, RO_data_train,RO_data_test], axis = 0)\n",
    "labels_ro_ac_ = np.concatenate([ACRIMA_labels, RO_labels_train, RO_labels_test], axis = 0)\n",
    "\n",
    "# Rim-One + Refuge\n",
    "data_ro_re = np.concatenate([REFUGE_data_train, REFUGE_data_test, RO_data_train,RO_data_test], axis = 0)\n",
    "labels_ro_re_ = np.concatenate([REFUGE_labels_train, REFUGE_labels_test, RO_labels_train, RO_labels_test], axis = 0)\n",
    "\n",
    "# Refuge\n",
    "data_re = np.concatenate([REFUGE_data_train, REFUGE_data_test], axis = 0)\n",
    "labels_re_ = np.concatenate([REFUGE_labels_train, REFUGE_labels_test], axis = 0)\n",
    "\n",
    "# Acrima\n",
    "data_ac = np.concatenate([ACRIMA_data], axis = 0)\n",
    "labels_ac_ = np.concatenate([ACRIMA_labels], axis = 0)\n",
    "\n",
    "# Rim-One\n",
    "data_ro = np.concatenate([RO_data_train,RO_data_test], axis = 0)\n",
    "labels_ro_ = np.concatenate([RO_labels_train, RO_labels_test], axis = 0)\n",
    "\n",
    "\n",
    "le = LabelEncoder()\n",
    "labels = le.fit_transform(labels_)\n",
    "labels_re_ac = le.fit_transform(labels_re_ac_)\n",
    "labels_ro_ac = le.fit_transform(labels_ro_ac_)\n",
    "labels_ro_re = le.fit_transform(labels_ro_re_)\n",
    "labels_re = le.fit_transform(labels_re_)\n",
    "labels_ac = le.fit_transform(labels_ac_)\n",
    "labels_ro = le.fit_transform(labels_ro_)\n",
    "\n",
    "print(\"Data: \", np.shape(data))\n",
    "print(\"Normal: \", len(data[labels==0]))\n",
    "print(\"Glaucoma: \", len(data[labels==1]))\n"
   ]
  },
  {
   "cell_type": "markdown",
   "id": "891f774c",
   "metadata": {},
   "source": [
    "# Classification"
   ]
  },
  {
   "cell_type": "code",
   "execution_count": null,
   "id": "67a2d3cb",
   "metadata": {},
   "outputs": [],
   "source": [
    "svm = SVC(kernel='rbf', C=3, probability=True)\n",
    "mlp = MLPClassifier(activation='relu',max_iter=500,alpha=0.01,hidden_layer_sizes=(50,50))\n",
    "xgb = XGBClassifier(colsample_bytree=0.8, max_depth=6, n_estimators= 300, subsample= 0.4, seed=0)\n",
    "\n",
    "\n",
    "models = []\n",
    "# models.append(('SVM', SVC(C=3, kernel='rbf')))\n",
    "# models.append(('XGB', XGBClassifier(colsample_bytree=0.8, max_depth=6, n_estimators= 300, subsample= 0.4, seed=0))) \n",
    "# models.append(('MLP', MLPClassifier(activation='relu',max_iter=500,alpha=0.01,hidden_layer_sizes=(50,50))))\n",
    "models.append(('VOT', VotingClassifier(estimators = [('svm', svm),('xgb', xgb),('mlp', mlp)], voting='hard')))\n",
    "\n"
   ]
  },
  {
   "cell_type": "markdown",
   "id": "5dda6f4b",
   "metadata": {},
   "source": [
    "# Results"
   ]
  },
  {
   "cell_type": "code",
   "execution_count": null,
   "id": "vflSZBHUVZy2",
   "metadata": {
    "id": "vflSZBHUVZy2"
   },
   "outputs": [],
   "source": [
    "# # Desbalanceado\n",
    "def results_unbalanced():\n",
    "    train_crossdataset(data_ro_ac, labels_ro_ac, data_re, labels_re, 'None', models, 'mobile')\n",
    "    train_crossdataset(data_ro_re, labels_ro_re, data_ac, labels_ac, 'None', models, 'mobile')\n",
    "    train_crossdataset(data_re_ac, labels_re_ac, data_ro, labels_ro, 'None', models, 'mobile')\n",
    "    return \n",
    "\n",
    "results_unbalanced()"
   ]
  },
  {
   "cell_type": "code",
   "execution_count": null,
   "id": "adb6daf6",
   "metadata": {
    "id": "adb6daf6"
   },
   "outputs": [],
   "source": [
    "# Balanceamento aleatório\n",
    "def results_balanced_random():\n",
    "\n",
    "    train_crossdataset(data_ro_ac, labels_ro_ac, data_re, labels_re, 'random', models, 'mobile')\n",
    "    train_crossdataset(data_ro_re, labels_ro_re, daata_ac, labels_ac, 'random', models, 'mobile')\n",
    "    train_crossdataset(data_re_ac, labels_re_ac, data_ro, labels_ro, 'random', models, 'mobile')\n",
    "    \n",
    "    return \n",
    "    \n",
    "results_balanced_random()"
   ]
  },
  {
   "cell_type": "code",
   "execution_count": null,
   "id": "365e0e08",
   "metadata": {
    "id": "365e0e08"
   },
   "outputs": [],
   "source": [
    "# Balanceamento Near Miss\n",
    "def results_balanced_nm():\n",
    "    train_crossdataset(data_ro_ac, labels_ro_ac, data_re, labels_re, 'nm', models, 'mobile')\n",
    "    train_crossdataset(data_ro_re, labels_ro_re, data_ac, labels_ac, 'nm', models, 'mobile')\n",
    "    train_crossdataset(data_re_ac, labels_re_ac, data_ro, labels_ro, 'nm', models, 'mobile')\n",
    "    return \n",
    "    \n",
    "results_balanced_nm()"
   ]
  },
  {
   "cell_type": "code",
   "execution_count": null,
   "id": "afe92290",
   "metadata": {
    "id": "afe92290"
   },
   "outputs": [],
   "source": [
    "# Balanceamento cluster\n",
    "\n",
    "def results_balanced_cluster():\n",
    "    train_crossdataset(data_ro_ac, labels_ro_ac, data_re, labels_re, 'cluster', models, 'mobile')\n",
    "    train_crossdataset(data_ro_re, labels_ro_re, data_ac, labels_ac, 'cluster', models, 'mobile')\n",
    "    train_crossdataset(data_re_ac, labels_re_ac, data_ro, labels_ro, 'cluster', models, 'mobile')\n",
    "    \n",
    "    return \n",
    "    \n",
    "results_balanced_cluster()"
   ]
  },
  {
   "cell_type": "code",
   "execution_count": null,
   "id": "47a26326",
   "metadata": {
    "id": "47a26326"
   },
   "outputs": [],
   "source": []
  },
  {
   "cell_type": "code",
   "execution_count": null,
   "id": "737ae6b0",
   "metadata": {},
   "outputs": [],
   "source": []
  }
 ],
 "metadata": {
  "accelerator": "GPU",
  "colab": {
   "collapsed_sections": [],
   "name": "VGG19_ML.ipynb",
   "provenance": []
  },
  "gpuClass": "standard",
  "kernelspec": {
   "display_name": "Python 3",
   "language": "python",
   "name": "python3"
  },
  "language_info": {
   "codemirror_mode": {
    "name": "ipython",
    "version": 3
   },
   "file_extension": ".py",
   "mimetype": "text/x-python",
   "name": "python",
   "nbconvert_exporter": "python",
   "pygments_lexer": "ipython3",
   "version": "3.8.8"
  }
 },
 "nbformat": 4,
 "nbformat_minor": 5
}
