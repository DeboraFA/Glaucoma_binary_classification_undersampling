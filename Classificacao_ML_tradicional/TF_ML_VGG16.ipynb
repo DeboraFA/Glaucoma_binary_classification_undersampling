{
 "cells": [
  {
   "cell_type": "code",
   "execution_count": null,
   "id": "e6c434b0",
   "metadata": {
    "executionInfo": {
     "elapsed": 3567,
     "status": "ok",
     "timestamp": 1656348141169,
     "user": {
      "displayName": "Débora Ferreira",
      "userId": "05060274424742616333"
     },
     "user_tz": 180
    },
    "id": "e6c434b0"
   },
   "outputs": [],
   "source": [
    "import os\n",
    "import cv2\n",
    "import glob\n",
    "import random\n",
    "import numpy as np\n",
    "\n",
    "from tensorflow.keras import optimizers\n",
    "from tensorflow.keras.applications.resnet50 import ResNet50, preprocess_input\n",
    "from tensorflow.keras.applications.inception_resnet_v2 import InceptionResNetV2, preprocess_input\n",
    "from tensorflow.keras.applications.inception_v3 import InceptionV3, preprocess_input\n",
    "from tensorflow.keras.applications.mobilenet import MobileNet, preprocess_input\n",
    "from tensorflow.keras.applications.vgg16 import VGG16, preprocess_input\n",
    "from tensorflow.keras.applications.vgg19 import VGG19, preprocess_input\n",
    "from tensorflow.keras.applications.xception import Xception, preprocess_input\n",
    "from tensorflow.keras.preprocessing.image import ImageDataGenerator, load_img, img_to_array, array_to_img\n",
    "from tensorflow.keras.models import load_model, Model, model_from_json, Sequential\n",
    "from tensorflow.keras.preprocessing import image\n",
    "from tensorflow.keras.layers import Dense, Conv2D, MaxPooling2D, InputLayer, Dropout, Flatten, GlobalAveragePooling2D\n",
    "from tensorflow.keras.layers import Dropout, Flatten, GlobalAveragePooling2D\n",
    "\n",
    "\n",
    "from sklearn.decomposition import PCA, KernelPCA\n",
    "from sklearn.svm import SVC\n",
    "from sklearn.neighbors import KNeighborsClassifier\n",
    "from sklearn.linear_model import LogisticRegression\n",
    "from sklearn.neural_network import MLPClassifier\n",
    "from sklearn.ensemble import VotingClassifier\n",
    "from xgboost import XGBClassifier\n",
    "\n",
    "\n",
    "\n",
    "from load_data_metrics import load_data, metrics, cv_train, results, data_balanced\n",
    "\n"
   ]
  },
  {
   "cell_type": "markdown",
   "id": "f733e538",
   "metadata": {
    "id": "f733e538"
   },
   "source": [
    "# Model"
   ]
  },
  {
   "cell_type": "code",
   "execution_count": null,
   "id": "10c5617a",
   "metadata": {
    "executionInfo": {
     "elapsed": 3835,
     "status": "ok",
     "timestamp": 1656348145000,
     "user": {
      "displayName": "Débora Ferreira",
      "userId": "05060274424742616333"
     },
     "user_tz": 180
    },
    "id": "10c5617a"
   },
   "outputs": [],
   "source": [
    "import tensorflow as tf\n",
    "from tensorflow.keras.models import Model\n",
    "vgg = VGG16(include_top=False, weights='imagenet', input_shape=(224,224,3))\n",
    "for layer in vgg.layers:\n",
    "    layer.trainable = False\n",
    "output = vgg.layers[-1].output\n",
    "output = Flatten()(output)\n",
    "vgg_model = Model(vgg.input, output)"
   ]
  },
  {
   "cell_type": "markdown",
   "id": "ec284253",
   "metadata": {},
   "source": [
    "# Load dataset"
   ]
  },
  {
   "cell_type": "code",
   "execution_count": null,
   "id": "552372e5",
   "metadata": {
    "executionInfo": {
     "elapsed": 15,
     "status": "ok",
     "timestamp": 1656348145001,
     "user": {
      "displayName": "Débora Ferreira",
      "userId": "05060274424742616333"
     },
     "user_tz": 180
    },
    "id": "552372e5"
   },
   "outputs": [],
   "source": [
    "def load_path(path):\n",
    "    labels_ = os.listdir(path)\n",
    "    features = []\n",
    "    labels   = []\n",
    "    for i, label in enumerate(labels_):\n",
    "        cur_path = path + \"/\" + label \n",
    "        for image_path in glob.glob(cur_path + \"/*\"):\n",
    "            img = image.load_img(image_path, target_size=(224, 224))\n",
    "            x = image.img_to_array(img)\n",
    "            x = np.expand_dims(x, axis=0)\n",
    "            x = preprocess_input(x)\n",
    "            feature = vgg_model.predict(x)\n",
    "            flat = feature.flatten()\n",
    "            \n",
    "            features.append(flat)\n",
    "            labels.append(label)\n",
    "        print (\"[INFO] completed label - \" + label)\n",
    "    return features, labels\n",
    "\n",
    "data, labels = load_data(load_path)"
   ]
  },
  {
   "cell_type": "code",
   "execution_count": null,
   "id": "03f2a0fe",
   "metadata": {},
   "outputs": [],
   "source": []
  },
  {
   "cell_type": "markdown",
   "id": "6802f317",
   "metadata": {
    "executionInfo": {
     "elapsed": 13,
     "status": "ok",
     "timestamp": 1656348145001,
     "user": {
      "displayName": "Débora Ferreira",
      "userId": "05060274424742616333"
     },
     "user_tz": 180
    },
    "id": "LyO-DE5dqohF"
   },
   "source": [
    "# Classify"
   ]
  },
  {
   "cell_type": "code",
   "execution_count": null,
   "id": "1dc52188",
   "metadata": {
    "executionInfo": {
     "elapsed": 9,
     "status": "ok",
     "timestamp": 1656348511863,
     "user": {
      "displayName": "Débora Ferreira",
      "userId": "05060274424742616333"
     },
     "user_tz": 180
    },
    "id": "1dc52188"
   },
   "outputs": [],
   "source": [
    "svm = SVC(C=3, gamma=0.001, kernel='rbf', probability=True)\n",
    "mlp = MLPClassifier(activation='relu',max_iter=700,alpha=0.001,hidden_layer_sizes=(40,),learning_rate='constant')\n",
    "xgb = XGBClassifier(colsample_bytree=0.6, max_depth=5, n_estimators=300, subsample= 0.6, seed=0)\n",
    "\n",
    "\n",
    "models = []\n",
    "models.append(('SVM', SVC(C=3, gamma=0.001, kernel='rbf')))\n",
    "models.append(('XGB', XGBClassifier(colsample_bytree=0.6, max_depth=5, n_estimators=300, subsample= 0.6, seed=0))) \n",
    "models.append(('MLP', MLPClassifier(activation='relu',max_iter=700,alpha=0.001,hidden_layer_sizes=(40,),learning_rate='constant')))\n",
    "models.append(('VOT', VotingClassifier(estimators = [('xgb', xgb),('svm', svm),('mlp', mlp)], voting='soft')))\n"
   ]
  },
  {
   "cell_type": "markdown",
   "id": "93042fa1",
   "metadata": {
    "id": "47a26326"
   },
   "source": [
    "# Results"
   ]
  },
  {
   "cell_type": "markdown",
   "id": "0bb85860",
   "metadata": {
    "id": "c1510afd"
   },
   "source": [
    "## Unbalanced"
   ]
  },
  {
   "cell_type": "code",
   "execution_count": null,
   "id": "8f6e5950",
   "metadata": {},
   "outputs": [],
   "source": [
    "P0, A0, S0, E0, Fs0, TP0, TN0, FP0, FN0 = cv_train(models, data, labels, 10, 'None', 'vgg')\n",
    "results(P0, A0, S0, E0, Fs0, TP0, TN0, FP0, FN0)"
   ]
  },
  {
   "cell_type": "markdown",
   "id": "e933df0f",
   "metadata": {},
   "source": [
    "##  Random Balanced"
   ]
  },
  {
   "cell_type": "code",
   "execution_count": null,
   "id": "b256230e",
   "metadata": {},
   "outputs": [],
   "source": [
    "P3, A3, S3, E3, Fs3, TP3, TN3, FP3, FN3 = cv_train(models, data, labels, 10, 'random', 'vgg')\n",
    "results(P3, A3, S3, E3, Fs3, TP3, TN3, FP3, FN3)\n"
   ]
  },
  {
   "cell_type": "markdown",
   "id": "e75604fd",
   "metadata": {},
   "source": [
    "## Near Miss Balanced"
   ]
  },
  {
   "cell_type": "code",
   "execution_count": null,
   "id": "1b50e0a1",
   "metadata": {},
   "outputs": [],
   "source": [
    "P2, A2, S2, E2, Fs2, TP2, TN2, FP2, FN2 = cv_train(models, data, labels, 10, 'nm', 'vgg')\n",
    "results(P2, A2, S2, E2, Fs2, TP2, TN2, FP2, FN2)"
   ]
  },
  {
   "cell_type": "markdown",
   "id": "43537e92",
   "metadata": {},
   "source": [
    "## Cluster Centroid Balanced"
   ]
  },
  {
   "cell_type": "code",
   "execution_count": null,
   "id": "2ba88d24",
   "metadata": {},
   "outputs": [],
   "source": [
    "P1, A1, S1, E1, Fs1, TP1, TN1, FP1, FN1 = cv_train(models, data, labels, 10, 'cluster', 'vgg')\n",
    "results(P1, A1, S1, E1, Fs1, TP1, TN1, FP1, FN1)"
   ]
  },
  {
   "cell_type": "code",
   "execution_count": null,
   "id": "c3da4b8a",
   "metadata": {},
   "outputs": [],
   "source": []
  }
 ],
 "metadata": {
  "accelerator": "GPU",
  "colab": {
   "collapsed_sections": [],
   "name": "VGG19_ML.ipynb",
   "provenance": []
  },
  "gpuClass": "standard",
  "kernelspec": {
   "display_name": "Python 3",
   "language": "python",
   "name": "python3"
  },
  "language_info": {
   "codemirror_mode": {
    "name": "ipython",
    "version": 3
   },
   "file_extension": ".py",
   "mimetype": "text/x-python",
   "name": "python",
   "nbconvert_exporter": "python",
   "pygments_lexer": "ipython3",
   "version": "3.8.8"
  }
 },
 "nbformat": 4,
 "nbformat_minor": 5
}
