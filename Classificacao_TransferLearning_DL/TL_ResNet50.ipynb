{
 "cells": [
  {
   "cell_type": "code",
   "execution_count": 1,
   "id": "fa0982d6",
   "metadata": {
    "executionInfo": {
     "elapsed": 2943,
     "status": "ok",
     "timestamp": 1656207936851,
     "user": {
      "displayName": "Débora Ferreira",
      "userId": "05060274424742616333"
     },
     "user_tz": 180
    },
    "id": "fa0982d6"
   },
   "outputs": [],
   "source": [
    "import os\n",
    "import cv2\n",
    "import glob\n",
    "import random\n",
    "import numpy as np\n",
    "import matplotlib.pyplot as plt\n",
    "import tensorflow as tf\n",
    "from tensorflow.keras import optimizers\n",
    "from tensorflow.keras.applications.resnet50 import ResNet50, preprocess_input\n",
    "from tensorflow.keras.applications.inception_resnet_v2 import InceptionResNetV2, preprocess_input\n",
    "from tensorflow.keras.applications.inception_v3 import InceptionV3, preprocess_input\n",
    "from tensorflow.keras.applications.mobilenet import MobileNet, preprocess_input\n",
    "from tensorflow.keras.applications.vgg16 import VGG16, preprocess_input\n",
    "from tensorflow.keras.applications.vgg19 import VGG19, preprocess_input\n",
    "from tensorflow.keras.applications.xception import Xception, preprocess_input\n",
    "from tensorflow.keras.preprocessing.image import ImageDataGenerator, load_img, img_to_array, array_to_img\n",
    "from tensorflow.keras.models import load_model, Model, model_from_json, Sequential\n",
    "from tensorflow.keras.preprocessing import image\n",
    "from tensorflow.keras.layers import Dense, Conv2D, MaxPooling2D, InputLayer, Dropout, Flatten, GlobalAveragePooling2D\n",
    "from tensorflow.keras.layers import Dropout, Flatten, GlobalAveragePooling2D\n",
    "\n",
    "from sklearn.model_selection import KFold, RepeatedKFold, StratifiedKFold\n",
    "from tensorflow.keras.utils import to_categorical\n",
    "from sklearn import preprocessing\n",
    "from sklearn.preprocessing import StandardScaler, LabelEncoder\n",
    "from tensorflow.keras.losses import mean_squared_error\n",
    "\n",
    "from load_data_metrics import load_data, data_balanced, metrics"
   ]
  },
  {
   "cell_type": "markdown",
   "id": "d418ce47",
   "metadata": {
    "id": "d418ce47"
   },
   "source": [
    "# Model"
   ]
  },
  {
   "cell_type": "code",
   "execution_count": 2,
   "id": "1129a1a1",
   "metadata": {
    "executionInfo": {
     "elapsed": 982,
     "status": "ok",
     "timestamp": 1656207937831,
     "user": {
      "displayName": "Débora Ferreira",
      "userId": "05060274424742616333"
     },
     "user_tz": 180
    },
    "id": "1129a1a1"
   },
   "outputs": [],
   "source": [
    "resnet = ResNet50(include_top=False, weights='imagenet', input_shape=(224,224,3))\n",
    "for layer in resnet.layers:\n",
    "    layer.trainable = False\n",
    "output = resnet.layers[-1].output\n",
    "output = Flatten()(output)\n",
    "resnet_model = Model(resnet.input, output)"
   ]
  },
  {
   "cell_type": "markdown",
   "id": "3dea768f",
   "metadata": {},
   "source": [
    "# Load dataset"
   ]
  },
  {
   "cell_type": "code",
   "execution_count": 3,
   "id": "8b0e3b56",
   "metadata": {
    "executionInfo": {
     "elapsed": 7,
     "status": "ok",
     "timestamp": 1656207937832,
     "user": {
      "displayName": "Débora Ferreira",
      "userId": "05060274424742616333"
     },
     "user_tz": 180
    },
    "id": "8b0e3b56"
   },
   "outputs": [
    {
     "name": "stdout",
     "output_type": "stream",
     "text": [
      "[INFO] completed label - 0_Normal\n",
      "[INFO] completed label - 1_Glaucoma\n",
      "[INFO] completed label - 0_Normal\n",
      "[INFO] completed label - 1_Glaucoma\n",
      "[INFO] completed label - 0_Normal\n",
      "[INFO] completed label - 1_Glaucoma\n",
      "[INFO] completed label - 0_Normal\n",
      "[INFO] completed label - 1_Glaucoma\n",
      "[INFO] completed label - 0_Normal\n",
      "[INFO] completed label - 1_Glaucoma\n",
      "Data:  (2390, 100352)\n",
      "Normal:  1702\n",
      "Glaucoma:  688\n"
     ]
    }
   ],
   "source": [
    "def load_path(path):\n",
    "    labels_ = os.listdir(path)\n",
    "    features = []\n",
    "    labels   = []\n",
    "    for i, label in enumerate(labels_):\n",
    "        cur_path = path + \"/\" + label \n",
    "        for image_path in glob.glob(cur_path + \"/*\"):\n",
    "            img = image.load_img(image_path, target_size=(224, 224))\n",
    "            x = image.img_to_array(img)\n",
    "            x = np.expand_dims(x, axis=0)\n",
    "            x = preprocess_input(x)\n",
    "            feature = resnet_model.predict(x)\n",
    "            flat = feature.flatten()\n",
    "            features.append(flat)\n",
    "            labels.append(label)\n",
    "            \n",
    "        print (\"[INFO] completed label - \" + label)\n",
    "    return features, labels\n",
    "\n",
    "data, labels = load_data(load_path)\n"
   ]
  },
  {
   "cell_type": "markdown",
   "id": "768b27c6",
   "metadata": {
    "id": "768b27c6"
   },
   "source": [
    "# Training model"
   ]
  },
  {
   "cell_type": "code",
   "execution_count": null,
   "id": "b6bb10f0",
   "metadata": {
    "colab": {
     "base_uri": "https://localhost:8080/"
    },
    "executionInfo": {
     "elapsed": 1102727,
     "status": "ok",
     "timestamp": 1656210949197,
     "user": {
      "displayName": "Débora Ferreira",
      "userId": "05060274424742616333"
     },
     "user_tz": 180
    },
    "id": "b6bb10f0",
    "outputId": "b24ba2a6-b627-4afd-e65f-1b0ec83ef31d"
   },
   "outputs": [],
   "source": [
    "def balanced_method(data_comp, labels_comp, method):\n",
    "\n",
    "    if method=='None':\n",
    "        data = data_comp\n",
    "        labels = labels_comp\n",
    "    elif method=='random':\n",
    "        data, labels = data_balanced(data_comp, labels_comp, 'random')\n",
    "    elif method=='nm':\n",
    "        data, labels = data_balanced(data_comp, labels_comp, 'nm')\n",
    "    elif method=='cluster':\n",
    "        data, labels = data_balanced(data_comp, labels_comp, 'cluster')\n",
    "    \n",
    "    \n",
    "    kfold = StratifiedKFold(n_splits=10, shuffle = True)\n",
    "    \n",
    "    for train_ix, test_ix in kfold.split(data, labels):\n",
    "        \n",
    "        X_train, X_test = data[train_ix], data[test_ix]\n",
    "        y_train, y_test = labels[train_ix], labels[test_ix]\n",
    "\n",
    "        \n",
    "        y_train = to_categorical(y_train)\n",
    "        y_test = to_categorical(y_test)\n",
    "        \n",
    "        \n",
    "        scaler = preprocessing.StandardScaler()\n",
    "        scaler.fit(X_train)\n",
    "        X_train = scaler.transform(X_train) \n",
    "        X_test = scaler.transform(X_test) \n",
    "\n",
    "        input_shape = resnet_model.output_shape[1]\n",
    "\n",
    "        model_transfer = Sequential()\n",
    "        model_transfer.add(InputLayer(input_shape=(input_shape,)))  \n",
    "        model_transfer.add(Dense(512, activation='relu', input_dim=input_shape))\n",
    "        model_transfer.add(Dropout(0.3))\n",
    "        model_transfer.add(Dense(512, activation='relu'))\n",
    "        model_transfer.add(Dropout(0.3))\n",
    "        model_transfer.add(Dense(2, activation='sigmoid'))\n",
    "\n",
    "\n",
    "        model_transfer.compile(loss='mse', optimizer='sgd',\n",
    "                      metrics=['accuracy'])\n",
    "\n",
    "        history = model_transfer.fit(X_train, y_train, batch_size=32, \n",
    "                                     epochs=100, verbose=0, shuffle=True)\n",
    "        \n",
    "        pred = np.round(model_transfer.predict(X_test),0)\n",
    "        y_pred = pred[:,1]\n",
    "        y_true = y_test[:,1]\n",
    "\n",
    "        acuracia, precision, sensitivity, specificity, f_score, tp, tn, fp, fn = metrics(y_pred, y_true)\n",
    "        \n",
    "    return\n"
   ]
  },
  {
   "cell_type": "code",
   "execution_count": null,
   "id": "36c962f6",
   "metadata": {},
   "outputs": [],
   "source": [
    "# Unbalanced\n",
    "unbalanced = balanced_method(data, labels, 'None')"
   ]
  },
  {
   "cell_type": "code",
   "execution_count": null,
   "id": "39ecaf64",
   "metadata": {},
   "outputs": [],
   "source": [
    "# Near miss \n",
    "nm_method = balanced_method(data, labels, 'nm')"
   ]
  },
  {
   "cell_type": "code",
   "execution_count": null,
   "id": "bd706719",
   "metadata": {},
   "outputs": [],
   "source": [
    "# Cluster centroid \n",
    "cluster_method = balanced_method(data, labels, 'cluster')"
   ]
  },
  {
   "cell_type": "code",
   "execution_count": null,
   "id": "cd790615",
   "metadata": {},
   "outputs": [],
   "source": [
    "# Random \n",
    "random_method = balanced_method(data, labels, 'random')"
   ]
  },
  {
   "cell_type": "code",
   "execution_count": null,
   "id": "28de47b6",
   "metadata": {},
   "outputs": [],
   "source": []
  },
  {
   "cell_type": "code",
   "execution_count": null,
   "id": "6fbf0daa",
   "metadata": {},
   "outputs": [],
   "source": []
  }
 ],
 "metadata": {
  "colab": {
   "collapsed_sections": [],
   "name": "TransferLearning_VGG16.ipynb",
   "provenance": []
  },
  "kernelspec": {
   "display_name": "Python 3",
   "language": "python",
   "name": "python3"
  },
  "language_info": {
   "codemirror_mode": {
    "name": "ipython",
    "version": 3
   },
   "file_extension": ".py",
   "mimetype": "text/x-python",
   "name": "python",
   "nbconvert_exporter": "python",
   "pygments_lexer": "ipython3",
   "version": "3.8.8"
  }
 },
 "nbformat": 4,
 "nbformat_minor": 5
}
